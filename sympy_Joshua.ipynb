{
 "cells": [
  {
   "cell_type": "code",
   "execution_count": 9,
   "id": "eeb62f6b",
   "metadata": {},
   "outputs": [],
   "source": [
    "import sympy as sp\n",
    "import math as mth"
   ]
  },
  {
   "cell_type": "code",
   "execution_count": 10,
   "id": "69f0be54",
   "metadata": {},
   "outputs": [
    {
     "data": {
      "text/latex": [
       "$\\displaystyle \\sqrt{2}$"
      ],
      "text/plain": [
       "sqrt(2)"
      ]
     },
     "execution_count": 10,
     "metadata": {},
     "output_type": "execute_result"
    }
   ],
   "source": [
    "a = sp.sqrt(2)\n",
    "a"
   ]
  },
  {
   "cell_type": "code",
   "execution_count": 11,
   "id": "9ff06b18",
   "metadata": {},
   "outputs": [
    {
     "data": {
      "text/latex": [
       "$\\displaystyle 6$"
      ],
      "text/plain": [
       "6"
      ]
     },
     "execution_count": 11,
     "metadata": {},
     "output_type": "execute_result"
    }
   ],
   "source": [
    "sp.sqrt(6)**2"
   ]
  },
  {
   "cell_type": "code",
   "execution_count": 13,
   "id": "06658846",
   "metadata": {},
   "outputs": [
    {
     "data": {
      "text/plain": [
       "16"
      ]
     },
     "execution_count": 13,
     "metadata": {},
     "output_type": "execute_result"
    }
   ],
   "source": [
    "int(mth.sqrt(16)**2)"
   ]
  },
  {
   "cell_type": "code",
   "execution_count": 17,
   "id": "59bc5675",
   "metadata": {},
   "outputs": [
    {
     "data": {
      "text/latex": [
       "$\\displaystyle y$"
      ],
      "text/plain": [
       "y"
      ]
     },
     "execution_count": 17,
     "metadata": {},
     "output_type": "execute_result"
    }
   ],
   "source": [
    "x = sp.Symbol(\"y\")\n",
    "x"
   ]
  },
  {
   "cell_type": "code",
   "execution_count": 18,
   "id": "d10bc72c",
   "metadata": {},
   "outputs": [
    {
     "data": {
      "text/latex": [
       "$\\displaystyle \\sqrt{y}$"
      ],
      "text/plain": [
       "sqrt(y)"
      ]
     },
     "execution_count": 18,
     "metadata": {},
     "output_type": "execute_result"
    }
   ],
   "source": [
    "sp.sqrt(x)"
   ]
  },
  {
   "cell_type": "code",
   "execution_count": 21,
   "id": "21c7cd47",
   "metadata": {},
   "outputs": [
    {
     "data": {
      "text/latex": [
       "$\\displaystyle 5 y + 10$"
      ],
      "text/plain": [
       "5*y + 10"
      ]
     },
     "execution_count": 21,
     "metadata": {},
     "output_type": "execute_result"
    }
   ],
   "source": [
    "5*x + 10 "
   ]
  },
  {
   "cell_type": "code",
   "execution_count": 23,
   "id": "b10c78ec",
   "metadata": {},
   "outputs": [
    {
     "data": {
      "text/latex": [
       "$\\displaystyle - 4 y$"
      ],
      "text/plain": [
       "-4*y"
      ]
     },
     "execution_count": 23,
     "metadata": {},
     "output_type": "execute_result"
    }
   ],
   "source": [
    "5*x+x-6*x-4*x"
   ]
  },
  {
   "cell_type": "code",
   "execution_count": 24,
   "id": "961896f1",
   "metadata": {},
   "outputs": [
    {
     "data": {
      "text/latex": [
       "$\\displaystyle \\sin{\\left(30 \\right)}$"
      ],
      "text/plain": [
       "sin(30)"
      ]
     },
     "execution_count": 24,
     "metadata": {},
     "output_type": "execute_result"
    }
   ],
   "source": [
    "sp.sin(30)"
   ]
  },
  {
   "cell_type": "code",
   "execution_count": 25,
   "id": "61ac153f",
   "metadata": {},
   "outputs": [
    {
     "data": {
      "text/latex": [
       "$\\displaystyle \\tan{\\left(45 \\right)}$"
      ],
      "text/plain": [
       "tan(45)"
      ]
     },
     "execution_count": 25,
     "metadata": {},
     "output_type": "execute_result"
    }
   ],
   "source": [
    "sp.tan(45)"
   ]
  },
  {
   "cell_type": "code",
   "execution_count": 28,
   "id": "f9a820fd",
   "metadata": {},
   "outputs": [
    {
     "data": {
      "text/latex": [
       "$\\displaystyle \\sin^{2}{\\left(y \\right)} + \\cos{\\left(y \\right)}$"
      ],
      "text/plain": [
       "sin(y)**2 + cos(y)"
      ]
     },
     "execution_count": 28,
     "metadata": {},
     "output_type": "execute_result"
    }
   ],
   "source": [
    "sp.sin(x)**2+sp.cos(x)"
   ]
  },
  {
   "cell_type": "code",
   "execution_count": 29,
   "id": "341c35e5",
   "metadata": {},
   "outputs": [
    {
     "data": {
      "text/latex": [
       "$\\displaystyle y$"
      ],
      "text/plain": [
       "y"
      ]
     },
     "execution_count": 29,
     "metadata": {},
     "output_type": "execute_result"
    }
   ],
   "source": [
    "2*x/2"
   ]
  },
  {
   "cell_type": "code",
   "execution_count": 30,
   "id": "5276ce40",
   "metadata": {},
   "outputs": [
    {
     "data": {
      "text/latex": [
       "$\\displaystyle 2^{y}$"
      ],
      "text/plain": [
       "2**y"
      ]
     },
     "execution_count": 30,
     "metadata": {},
     "output_type": "execute_result"
    }
   ],
   "source": [
    "2**x"
   ]
  },
  {
   "cell_type": "code",
   "execution_count": 31,
   "id": "b7611449",
   "metadata": {},
   "outputs": [
    {
     "data": {
      "text/latex": [
       "$\\displaystyle \\frac{2^{y}}{2}$"
      ],
      "text/plain": [
       "2**y/2"
      ]
     },
     "execution_count": 31,
     "metadata": {},
     "output_type": "execute_result"
    }
   ],
   "source": [
    "2**x/2"
   ]
  },
  {
   "cell_type": "code",
   "execution_count": 37,
   "id": "940f5c32",
   "metadata": {},
   "outputs": [
    {
     "data": {
      "text/latex": [
       "$\\displaystyle y \\left(y + 2\\right) \\left(y + 4\\right)$"
      ],
      "text/plain": [
       "y*(y + 2)*(y + 4)"
      ]
     },
     "execution_count": 37,
     "metadata": {},
     "output_type": "execute_result"
    }
   ],
   "source": [
    "expr = x*(x+2)*(x+4)\n",
    "expr"
   ]
  },
  {
   "cell_type": "code",
   "execution_count": 38,
   "id": "b442a2ff",
   "metadata": {},
   "outputs": [
    {
     "data": {
      "text/latex": [
       "$\\displaystyle y^{3} + 6 y^{2} + 8 y$"
      ],
      "text/plain": [
       "y**3 + 6*y**2 + 8*y"
      ]
     },
     "execution_count": 38,
     "metadata": {},
     "output_type": "execute_result"
    }
   ],
   "source": [
    "expr.expand()"
   ]
  },
  {
   "cell_type": "code",
   "execution_count": 39,
   "id": "0e8dd423",
   "metadata": {},
   "outputs": [
    {
     "data": {
      "text/plain": [
       "(a, y)"
      ]
     },
     "execution_count": 39,
     "metadata": {},
     "output_type": "execute_result"
    }
   ],
   "source": [
    "sp.symbols('a y z')"
   ]
  },
  {
   "cell_type": "code",
   "execution_count": 40,
   "id": "5c945c24",
   "metadata": {},
   "outputs": [],
   "source": [
    "a,y,z=  sp.symbols('a,y,z')\n"
   ]
  },
  {
   "cell_type": "code",
   "execution_count": 41,
   "id": "776269e2",
   "metadata": {},
   "outputs": [
    {
     "data": {
      "text/latex": [
       "$\\displaystyle a$"
      ],
      "text/plain": [
       "a"
      ]
     },
     "execution_count": 41,
     "metadata": {},
     "output_type": "execute_result"
    }
   ],
   "source": [
    "a"
   ]
  },
  {
   "cell_type": "code",
   "execution_count": 42,
   "id": "14e11557",
   "metadata": {},
   "outputs": [
    {
     "data": {
      "text/latex": [
       "$\\displaystyle y$"
      ],
      "text/plain": [
       "y"
      ]
     },
     "execution_count": 42,
     "metadata": {},
     "output_type": "execute_result"
    }
   ],
   "source": [
    "y"
   ]
  },
  {
   "cell_type": "code",
   "execution_count": 43,
   "id": "4273d817",
   "metadata": {},
   "outputs": [
    {
     "data": {
      "text/latex": [
       "$\\displaystyle z$"
      ],
      "text/plain": [
       "z"
      ]
     },
     "execution_count": 43,
     "metadata": {},
     "output_type": "execute_result"
    }
   ],
   "source": [
    "z"
   ]
  },
  {
   "cell_type": "code",
   "execution_count": 45,
   "id": "727dbd09",
   "metadata": {},
   "outputs": [
    {
     "data": {
      "text/latex": [
       "$\\displaystyle a \\left(y + z\\right) + y \\left(a + z\\right) + z \\left(a - y\\right)$"
      ],
      "text/plain": [
       "a*(y + z) + y*(a + z) + z*(a - y)"
      ]
     },
     "execution_count": 45,
     "metadata": {},
     "output_type": "execute_result"
    }
   ],
   "source": [
    "exp = a*(y+z)+y*(a+z)+z*(a-y)\n",
    "exp"
   ]
  },
  {
   "cell_type": "code",
   "execution_count": 46,
   "id": "7728cf2a",
   "metadata": {},
   "outputs": [
    {
     "data": {
      "text/latex": [
       "$\\displaystyle 2 a y + 2 a z$"
      ],
      "text/plain": [
       "2*a*y + 2*a*z"
      ]
     },
     "execution_count": 46,
     "metadata": {},
     "output_type": "execute_result"
    }
   ],
   "source": [
    "sp.expand(exp)"
   ]
  },
  {
   "cell_type": "code",
   "execution_count": 48,
   "id": "196bf76c",
   "metadata": {},
   "outputs": [
    {
     "data": {
      "text/latex": [
       "$\\displaystyle y^{2} + 2 y + 1$"
      ],
      "text/plain": [
       "y**2 + 2*y + 1"
      ]
     },
     "execution_count": 48,
     "metadata": {},
     "output_type": "execute_result"
    }
   ],
   "source": [
    "new = x**2+2*x+1\n",
    "new"
   ]
  },
  {
   "cell_type": "code",
   "execution_count": 49,
   "id": "e8e9b854",
   "metadata": {},
   "outputs": [
    {
     "data": {
      "text/latex": [
       "$\\displaystyle \\left(y + 1\\right)^{2}$"
      ],
      "text/plain": [
       "(y + 1)**2"
      ]
     },
     "execution_count": 49,
     "metadata": {},
     "output_type": "execute_result"
    }
   ],
   "source": [
    "sp.factor(new)"
   ]
  },
  {
   "cell_type": "code",
   "execution_count": 50,
   "id": "25b203d5",
   "metadata": {},
   "outputs": [
    {
     "data": {
      "text/latex": [
       "$\\displaystyle 2 a \\left(y + z\\right)$"
      ],
      "text/plain": [
       "2*a*(y + z)"
      ]
     },
     "execution_count": 50,
     "metadata": {},
     "output_type": "execute_result"
    }
   ],
   "source": [
    "sp.factor(exp)"
   ]
  },
  {
   "cell_type": "markdown",
   "id": "e56dbf00",
   "metadata": {},
   "source": [
    "# since the symbol is actually converted to a tuple, we can actually get it back by simply unstacking or slicing"
   ]
  },
  {
   "cell_type": "code",
   "execution_count": 52,
   "id": "0097b68e",
   "metadata": {},
   "outputs": [
    {
     "data": {
      "text/plain": [
       "(x0, x1, x2, x3, x4)"
      ]
     },
     "execution_count": 52,
     "metadata": {},
     "output_type": "execute_result"
    }
   ],
   "source": [
    "new_2 = sp.symbols('x0:5')\n",
    "new_2"
   ]
  },
  {
   "cell_type": "code",
   "execution_count": 53,
   "id": "894fef08",
   "metadata": {},
   "outputs": [
    {
     "data": {
      "text/latex": [
       "$\\displaystyle x_{0}^{2} + x_{1}^{3}$"
      ],
      "text/plain": [
       "x0**2 + x1**3"
      ]
     },
     "execution_count": 53,
     "metadata": {},
     "output_type": "execute_result"
    }
   ],
   "source": [
    "ex = new_2[0]**2+new_2[1]**3\n",
    "ex"
   ]
  },
  {
   "cell_type": "code",
   "execution_count": 54,
   "id": "1c2878f6",
   "metadata": {},
   "outputs": [
    {
     "data": {
      "text/latex": [
       "$\\displaystyle \\pi$"
      ],
      "text/plain": [
       "pi"
      ]
     },
     "execution_count": 54,
     "metadata": {},
     "output_type": "execute_result"
    }
   ],
   "source": [
    "sp.pi"
   ]
  },
  {
   "cell_type": "code",
   "execution_count": 55,
   "id": "952b7585",
   "metadata": {},
   "outputs": [
    {
     "data": {
      "text/latex": [
       "$\\displaystyle e$"
      ],
      "text/plain": [
       "E"
      ]
     },
     "execution_count": 55,
     "metadata": {},
     "output_type": "execute_result"
    }
   ],
   "source": [
    "sp.E"
   ]
  },
  {
   "cell_type": "code",
   "execution_count": 56,
   "id": "c19aba4c",
   "metadata": {},
   "outputs": [
    {
     "data": {
      "text/latex": [
       "$\\displaystyle \\infty$"
      ],
      "text/plain": [
       "oo"
      ]
     },
     "execution_count": 56,
     "metadata": {},
     "output_type": "execute_result"
    }
   ],
   "source": [
    "sp.oo"
   ]
  },
  {
   "cell_type": "code",
   "execution_count": 58,
   "id": "e0c20e18",
   "metadata": {},
   "outputs": [
    {
     "data": {
      "text/latex": [
       "$\\displaystyle \\log{\\left(5 \\right)}$"
      ],
      "text/plain": [
       "log(5)"
      ]
     },
     "execution_count": 58,
     "metadata": {},
     "output_type": "execute_result"
    }
   ],
   "source": [
    "sp.log(5)"
   ]
  },
  {
   "cell_type": "code",
   "execution_count": 59,
   "id": "a8f15a72",
   "metadata": {},
   "outputs": [
    {
     "data": {
      "text/latex": [
       "$\\displaystyle i$"
      ],
      "text/plain": [
       "I"
      ]
     },
     "execution_count": 59,
     "metadata": {},
     "output_type": "execute_result"
    }
   ],
   "source": [
    "sp.I"
   ]
  },
  {
   "cell_type": "code",
   "execution_count": 64,
   "id": "76d38188",
   "metadata": {},
   "outputs": [
    {
     "data": {
      "text/latex": [
       "$\\displaystyle \\sqrt[3]{y}$"
      ],
      "text/plain": [
       "y**(1/3)"
      ]
     },
     "execution_count": 64,
     "metadata": {},
     "output_type": "execute_result"
    }
   ],
   "source": [
    "x**(sp.Integer(1)/sp.Integer(3))"
   ]
  },
  {
   "cell_type": "code",
   "execution_count": 65,
   "id": "885e4969",
   "metadata": {},
   "outputs": [
    {
     "data": {
      "text/latex": [
       "$\\displaystyle e^{y}$"
      ],
      "text/plain": [
       "exp(y)"
      ]
     },
     "execution_count": 65,
     "metadata": {},
     "output_type": "execute_result"
    }
   ],
   "source": [
    "sp.E**(x)"
   ]
  },
  {
   "cell_type": "code",
   "execution_count": 71,
   "id": "db6aee1a",
   "metadata": {},
   "outputs": [
    {
     "data": {
      "text/latex": [
       "$\\displaystyle \\frac{1}{3}$"
      ],
      "text/plain": [
       "1/3"
      ]
     },
     "execution_count": 71,
     "metadata": {},
     "output_type": "execute_result"
    }
   ],
   "source": [
    "sp.Rational(1,3)"
   ]
  },
  {
   "cell_type": "code",
   "execution_count": 69,
   "id": "06faf516",
   "metadata": {},
   "outputs": [
    {
     "data": {
      "text/plain": [
       "0.3333333333333333"
      ]
     },
     "execution_count": 69,
     "metadata": {},
     "output_type": "execute_result"
    }
   ],
   "source": [
    "1/3"
   ]
  },
  {
   "cell_type": "code",
   "execution_count": 72,
   "id": "bcbdffde",
   "metadata": {},
   "outputs": [
    {
     "data": {
      "text/latex": [
       "$\\displaystyle \\sqrt[3]{y}$"
      ],
      "text/plain": [
       "y**(1/3)"
      ]
     },
     "execution_count": 72,
     "metadata": {},
     "output_type": "execute_result"
    }
   ],
   "source": [
    "x**sp.Rational(1,3)"
   ]
  },
  {
   "cell_type": "code",
   "execution_count": 73,
   "id": "e8e0eff8",
   "metadata": {},
   "outputs": [
    {
     "data": {
      "text/latex": [
       "$\\displaystyle \\pi^{2}$"
      ],
      "text/plain": [
       "pi**2"
      ]
     },
     "execution_count": 73,
     "metadata": {},
     "output_type": "execute_result"
    }
   ],
   "source": [
    "sp.pi**2"
   ]
  },
  {
   "cell_type": "code",
   "execution_count": 74,
   "id": "22032436",
   "metadata": {},
   "outputs": [
    {
     "data": {
      "text/latex": [
       "$\\displaystyle e^{\\pi + i}$"
      ],
      "text/plain": [
       "exp(pi + I)"
      ]
     },
     "execution_count": 74,
     "metadata": {},
     "output_type": "execute_result"
    }
   ],
   "source": [
    "sp.E**(sp.pi+sp.I)"
   ]
  },
  {
   "cell_type": "code",
   "execution_count": 75,
   "id": "68b3b7f5",
   "metadata": {},
   "outputs": [
    {
     "data": {
      "text/latex": [
       "$\\displaystyle e^{3}$"
      ],
      "text/plain": [
       "exp(3)"
      ]
     },
     "execution_count": 75,
     "metadata": {},
     "output_type": "execute_result"
    }
   ],
   "source": [
    "sp.exp(3)"
   ]
  },
  {
   "cell_type": "code",
   "execution_count": 77,
   "id": "c6358ad9",
   "metadata": {},
   "outputs": [
    {
     "data": {
      "text/latex": [
       "$\\displaystyle e^{\\pi + i}$"
      ],
      "text/plain": [
       "exp(pi + I)"
      ]
     },
     "execution_count": 77,
     "metadata": {},
     "output_type": "execute_result"
    }
   ],
   "source": [
    "sp.exp(sp.pi+sp.I)"
   ]
  },
  {
   "cell_type": "code",
   "execution_count": 85,
   "id": "b3e7d40f",
   "metadata": {},
   "outputs": [
    {
     "data": {
      "text/latex": [
       "$\\displaystyle y^{2} = -5$"
      ],
      "text/plain": [
       "Eq(y**2, -5)"
      ]
     },
     "execution_count": 85,
     "metadata": {},
     "output_type": "execute_result"
    }
   ],
   "source": [
    "joe=sp.Eq(x**2,-5)\n",
    "joe"
   ]
  },
  {
   "cell_type": "code",
   "execution_count": 87,
   "id": "fbd05646",
   "metadata": {},
   "outputs": [],
   "source": [
    "dan = sp.solveset(joe)"
   ]
  },
  {
   "cell_type": "code",
   "execution_count": 91,
   "id": "371b1ca6",
   "metadata": {},
   "outputs": [
    {
     "data": {
      "text/plain": [
       "[sqrt(5)*I, -sqrt(5)*I]"
      ]
     },
     "execution_count": 91,
     "metadata": {},
     "output_type": "execute_result"
    }
   ],
   "source": [
    "list(sp.solveset(joe))"
   ]
  },
  {
   "cell_type": "code",
   "execution_count": 92,
   "id": "4acfaf57",
   "metadata": {},
   "outputs": [
    {
     "data": {
      "text/latex": [
       "$\\displaystyle y^{2} + 5 = 9$"
      ],
      "text/plain": [
       "Eq(y**2 + 5, 9)"
      ]
     },
     "execution_count": 92,
     "metadata": {},
     "output_type": "execute_result"
    }
   ],
   "source": [
    "sp.Eq(x**2+5,9)"
   ]
  },
  {
   "cell_type": "code",
   "execution_count": 93,
   "id": "28516c33",
   "metadata": {},
   "outputs": [
    {
     "data": {
      "text/latex": [
       "$\\displaystyle \\left\\{-2, 2\\right\\}$"
      ],
      "text/plain": [
       "FiniteSet(-2, 2)"
      ]
     },
     "execution_count": 93,
     "metadata": {},
     "output_type": "execute_result"
    }
   ],
   "source": [
    "sp.solveset(sp.Eq(x**2+5,9))"
   ]
  },
  {
   "cell_type": "code",
   "execution_count": 94,
   "id": "f71240f8",
   "metadata": {},
   "outputs": [
    {
     "data": {
      "text/latex": [
       "$\\displaystyle y + 5 = 9$"
      ],
      "text/plain": [
       "Eq(y + 5, 9)"
      ]
     },
     "execution_count": 94,
     "metadata": {},
     "output_type": "execute_result"
    }
   ],
   "source": [
    "sp.Eq(x+5,9)"
   ]
  },
  {
   "cell_type": "code",
   "execution_count": 95,
   "id": "71d6db42",
   "metadata": {},
   "outputs": [
    {
     "data": {
      "text/latex": [
       "$\\displaystyle \\left\\{4\\right\\}$"
      ],
      "text/plain": [
       "FiniteSet(4)"
      ]
     },
     "execution_count": 95,
     "metadata": {},
     "output_type": "execute_result"
    }
   ],
   "source": [
    "sp.solveset(sp.Eq(x+5,9))"
   ]
  },
  {
   "cell_type": "code",
   "execution_count": 100,
   "id": "5d983548",
   "metadata": {},
   "outputs": [
    {
     "data": {
      "text/latex": [
       "$\\displaystyle \\sin^{2}{\\left(y \\right)} + 2 \\sin{\\left(y \\right)} + 1 = 0$"
      ],
      "text/plain": [
       "Eq(sin(y)**2 + 2*sin(y) + 1, 0)"
      ]
     },
     "execution_count": 100,
     "metadata": {},
     "output_type": "execute_result"
    }
   ],
   "source": [
    "jan=sp.Eq(sp.sin(x)**2 + (sp.Integer(2)*sp.sin(x)) + 1,0)\n",
    "jan"
   ]
  },
  {
   "cell_type": "code",
   "execution_count": 99,
   "id": "25afa8fb",
   "metadata": {},
   "outputs": [
    {
     "data": {
      "text/latex": [
       "$\\displaystyle \\left\\{2 n \\pi + \\frac{3 \\pi}{2}\\; \\middle|\\; n \\in \\mathbb{Z}\\right\\}$"
      ],
      "text/plain": [
       "ImageSet(Lambda(_n, 2*_n*pi + 3*pi/2), Integers)"
      ]
     },
     "execution_count": 99,
     "metadata": {},
     "output_type": "execute_result"
    }
   ],
   "source": [
    "sp.solveset(jan,x)"
   ]
  },
  {
   "cell_type": "code",
   "execution_count": 102,
   "id": "c2c71847",
   "metadata": {},
   "outputs": [
    {
     "data": {
      "text/latex": [
       "$\\displaystyle 3 y + 5 z = 4$"
      ],
      "text/plain": [
       "Eq(3*y + 5*z, 4)"
      ]
     },
     "execution_count": 102,
     "metadata": {},
     "output_type": "execute_result"
    }
   ],
   "source": [
    "eq1 = sp.Eq((sp.Integer(3)*sp.Symbol('y'))+(sp.Integer(5)*sp.Symbol('z')),4 )\n",
    "eq1"
   ]
  },
  {
   "cell_type": "code",
   "execution_count": 103,
   "id": "64bbb773",
   "metadata": {},
   "outputs": [
    {
     "data": {
      "text/latex": [
       "$\\displaystyle 2 y + 2 z = 3$"
      ],
      "text/plain": [
       "Eq(2*y + 2*z, 3)"
      ]
     },
     "execution_count": 103,
     "metadata": {},
     "output_type": "execute_result"
    }
   ],
   "source": [
    "eq2 = sp.Eq((sp.Integer(2)*sp.Symbol('y'))+(sp.Integer(2)*sp.Symbol('z')),3 )\n",
    "eq2"
   ]
  },
  {
   "cell_type": "code",
   "execution_count": 105,
   "id": "282942d9",
   "metadata": {},
   "outputs": [
    {
     "data": {
      "text/latex": [
       "$\\displaystyle \\left\\{\\left( \\frac{7}{4}, \\  - \\frac{1}{4}\\right)\\right\\}$"
      ],
      "text/plain": [
       "FiniteSet((7/4, -1/4))"
      ]
     },
     "execution_count": 105,
     "metadata": {},
     "output_type": "execute_result"
    }
   ],
   "source": [
    "sp.linsolve([eq1,eq2],y,z)"
   ]
  },
  {
   "cell_type": "code",
   "execution_count": 106,
   "id": "d6407e06",
   "metadata": {},
   "outputs": [
    {
     "data": {
      "text/latex": [
       "$\\displaystyle x^{2} + 2 x + 1 = 0$"
      ],
      "text/plain": [
       "Eq(x**2 + 2*x + 1, 0)"
      ]
     },
     "execution_count": 106,
     "metadata": {},
     "output_type": "execute_result"
    }
   ],
   "source": [
    "sp.Eq(sp.Symbol('x')**2+sp.Integer(2)*sp.Symbol('x')+1,0)"
   ]
  },
  {
   "cell_type": "code",
   "execution_count": 108,
   "id": "54a6d30a",
   "metadata": {},
   "outputs": [
    {
     "data": {
      "text/latex": [
       "$\\displaystyle \\left\\{-1\\right\\}$"
      ],
      "text/plain": [
       "FiniteSet(-1)"
      ]
     },
     "execution_count": 108,
     "metadata": {},
     "output_type": "execute_result"
    }
   ],
   "source": [
    "sp.solveset(sp.Eq(sp.Symbol('x')**2+sp.Integer(2)*sp.Symbol('x')+1,0))"
   ]
  },
  {
   "cell_type": "code",
   "execution_count": null,
   "id": "6e00a673",
   "metadata": {},
   "outputs": [],
   "source": []
  }
 ],
 "metadata": {
  "kernelspec": {
   "display_name": "Python 3",
   "language": "python",
   "name": "python3"
  },
  "language_info": {
   "codemirror_mode": {
    "name": "ipython",
    "version": 3
   },
   "file_extension": ".py",
   "mimetype": "text/x-python",
   "name": "python",
   "nbconvert_exporter": "python",
   "pygments_lexer": "ipython3",
   "version": "3.8.8"
  }
 },
 "nbformat": 4,
 "nbformat_minor": 5
}
